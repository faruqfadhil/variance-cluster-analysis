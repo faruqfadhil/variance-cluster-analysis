{
 "cells": [
  {
   "cell_type": "code",
   "execution_count": 10,
   "metadata": {
    "collapsed": true
   },
   "outputs": [],
   "source": [
    "import pandas as pd\n",
    "import numpy as np\n",
    "from numpy import zeros"
   ]
  },
  {
   "cell_type": "markdown",
   "metadata": {},
   "source": [
    "## DATA PRE-PROCESSING"
   ]
  },
  {
   "cell_type": "code",
   "execution_count": 11,
   "metadata": {},
   "outputs": [],
   "source": [
    "# how many data ?\n",
    "num_of_data = 2\n",
    "data_load1 = pd.read_csv('ahc_complete_linkage.csv')\n",
    "data_load2 = pd.read_csv('ahc_average_linkage.csv')\n",
    "# data.columns = [\"sepal length\", \"sepal width\", \"petal length\", \"petal width\",\"label\"]\n",
    "# data_set = data[data.columns.difference(['label'])]\n",
    "data_fr1 = pd.DataFrame(columns=['sepal length','sepal width','petal length','petal width','cluster'], data=data_load1[['sepal length','sepal width','petal length','petal width','cluster']])\n",
    "data_fr2 = pd.DataFrame(columns=['sepal length','sepal width','petal length','petal width','cluster'], data=data_load2[['sepal length','sepal width','petal length','petal width','cluster']])\n",
    "data = {}\n",
    "data[0] = data_fr1\n",
    "data[1] = data_fr2"
   ]
  },
  {
   "cell_type": "markdown",
   "metadata": {},
   "source": [
    "## CALCULATE PROCESS"
   ]
  },
  {
   "cell_type": "code",
   "execution_count": 12,
   "metadata": {},
   "outputs": [],
   "source": [
    "def get_avg_cluster(data_cluster):\n",
    "    avg_sepal_length = data_cluster['sepal length'].mean()\n",
    "    avg_sepal_width = data_cluster['sepal width'].mean()\n",
    "    avg_petal_length = data_cluster['petal length'].mean()\n",
    "    avg_petal_width = data_cluster['petal width'].mean()\n",
    "    data_avg = np.array([avg_sepal_length,avg_sepal_width,avg_petal_length,avg_petal_width])\n",
    "    return data_avg;\n",
    "def sikmavc( d,avg_cluster ):\n",
    "    a = float(d['sepal length'] - avg_cluster[0])\n",
    "    b = float(d['sepal width'] - avg_cluster[1])\n",
    "    c = float(d['petal length'] - avg_cluster[2])\n",
    "    d = float(d['petal width'] - avg_cluster[3])\n",
    "    new_data = np.array([a,b,c,d])\n",
    "    final_data = np.dot(new_data,new_data)\n",
    "    return final_data;\n",
    "def vc(data_cluster):\n",
    "    i = 0\n",
    "    temp_res=0\n",
    "#     data_cluster = data[data['cluster']==cluster_name]\n",
    "    avg_d = get_avg_cluster(data_cluster) \n",
    "    nc = len(data_cluster)\n",
    "    while i < nc:\n",
    "        temp_res+=sikmavc(data_cluster.iloc[[i]],avg_d)\n",
    "        i+=1\n",
    "    vc_data = float((1/(nc-1)) * temp_res) \n",
    "    return vc_data;\n",
    "iterat = 0\n",
    "# loop process\n",
    "vw = zeros([2,1])\n",
    "vb = zeros([2,1])\n",
    "v = zeros([2,1])\n",
    "jenis = np.array(['ahc-complete-linkage','ahc-average-linkage'])\n",
    "while iterat < num_of_data:\n",
    "#     sikmavw=0\n",
    "#     sikmavb=0\n",
    "    # ========= calculate vw =============    \n",
    "    # list cluster\n",
    "    list_cluster = np.array([0,1,2])\n",
    "    vc_cluster = zeros([len(list_cluster),1])\n",
    "    k = 3\n",
    "    j=0\n",
    "    t=0\n",
    "    sikmavw=0\n",
    "    # calculate vc per cluster\n",
    "    while j < k:\n",
    "        vc_cluster[j] = vc(data[iterat][data[iterat]['cluster']==list_cluster[j]])\n",
    "        j+=1\n",
    "    while t < k:\n",
    "        data_clus = data[iterat][data[iterat]['cluster']==list_cluster[t]]\n",
    "        nc = len(data_clus)\n",
    "        sikmavw+=(nc-1)*vc_cluster[t]\n",
    "        t+=1\n",
    "    N = len(data[iterat])\n",
    "    vw[iterat]=float((1/(N-k))*sikmavw)\n",
    "    # ========= calculate vw =============\n",
    "\n",
    "    # ========= calculate vb =============\n",
    "    # average data in each cluster\n",
    "    j=0\n",
    "    avg_per_cluster = zeros([len(list_cluster),4])\n",
    "    while j < k:\n",
    "        data_cluster2 = data[iterat][data[iterat]['cluster']==list_cluster[j]]\n",
    "        avg_per_cluster[j] = get_avg_cluster(data_cluster2)\n",
    "        j+=1\n",
    "    # average all cluster\n",
    "    j=0\n",
    "    average_cluster = zeros([1,4])\n",
    "    while j < avg_per_cluster.shape[1]:\n",
    "        average_cluster[0][j] = avg_per_cluster[:,[j]].mean()\n",
    "        j+=1\n",
    "    #  vb final calculate\n",
    "    j=0\n",
    "    sikmavb = 0\n",
    "    while j < k:\n",
    "        data_clus = data[iterat][data[iterat]['cluster']==list_cluster[j]]\n",
    "        nc = len(data_clus)\n",
    "        selisih = avg_per_cluster[j] - average_cluster\n",
    "        data_selisih = np.array([selisih[0][0],selisih[0][1],selisih[0][2],selisih[0][3]])\n",
    "        vekt_selisih = np.dot(data_selisih,data_selisih)\n",
    "        n_selisih = nc * vekt_selisih\n",
    "        sikmavb+=n_selisih\n",
    "        j+=1\n",
    "    vb[iterat] = float((1/(k-1))*sikmavb)\n",
    "    # ========= calculate vb =============\n",
    "\n",
    "    # ========= calculate v =============\n",
    "    v[iterat] = vw[iterat]/vb[iterat]\n",
    "    iterat+=1"
   ]
  },
  {
   "cell_type": "markdown",
   "metadata": {},
   "source": [
    "## RESULT"
   ]
  },
  {
   "cell_type": "code",
   "execution_count": 13,
   "metadata": {},
   "outputs": [
    {
     "data": {
      "text/html": [
       "<div>\n",
       "<style>\n",
       "    .dataframe thead tr:only-child th {\n",
       "        text-align: right;\n",
       "    }\n",
       "\n",
       "    .dataframe thead th {\n",
       "        text-align: left;\n",
       "    }\n",
       "\n",
       "    .dataframe tbody tr th {\n",
       "        vertical-align: top;\n",
       "    }\n",
       "</style>\n",
       "<table border=\"1\" class=\"dataframe\">\n",
       "  <thead>\n",
       "    <tr style=\"text-align: right;\">\n",
       "      <th></th>\n",
       "      <th>jenis</th>\n",
       "      <th>v</th>\n",
       "      <th>vb</th>\n",
       "      <th>vw</th>\n",
       "    </tr>\n",
       "  </thead>\n",
       "  <tbody>\n",
       "    <tr>\n",
       "      <th>0</th>\n",
       "      <td>ahc-complete-linkage</td>\n",
       "      <td>0.002026</td>\n",
       "      <td>300.840486</td>\n",
       "      <td>0.609622</td>\n",
       "    </tr>\n",
       "    <tr>\n",
       "      <th>1</th>\n",
       "      <td>ahc-average-linkage</td>\n",
       "      <td>0.001787</td>\n",
       "      <td>302.785773</td>\n",
       "      <td>0.541053</td>\n",
       "    </tr>\n",
       "  </tbody>\n",
       "</table>\n",
       "</div>"
      ],
      "text/plain": [
       "                  jenis         v          vb        vw\n",
       "0  ahc-complete-linkage  0.002026  300.840486  0.609622\n",
       "1   ahc-average-linkage  0.001787  302.785773  0.541053"
      ]
     },
     "execution_count": 13,
     "metadata": {},
     "output_type": "execute_result"
    }
   ],
   "source": [
    "final = pd.DataFrame({'v':v.ravel(),'vb':vb.ravel(),'vw':vw.ravel(),'jenis':jenis.ravel()})\n",
    "final"
   ]
  },
  {
   "cell_type": "code",
   "execution_count": null,
   "metadata": {
    "collapsed": true
   },
   "outputs": [],
   "source": []
  }
 ],
 "metadata": {
  "kernelspec": {
   "display_name": "Python 3",
   "language": "python",
   "name": "python3"
  },
  "language_info": {
   "codemirror_mode": {
    "name": "ipython",
    "version": 3
   },
   "file_extension": ".py",
   "mimetype": "text/x-python",
   "name": "python",
   "nbconvert_exporter": "python",
   "pygments_lexer": "ipython3",
   "version": "3.6.3"
  }
 },
 "nbformat": 4,
 "nbformat_minor": 2
}
